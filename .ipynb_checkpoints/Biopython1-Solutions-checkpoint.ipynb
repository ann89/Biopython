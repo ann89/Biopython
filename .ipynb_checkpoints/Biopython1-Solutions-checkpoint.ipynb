{
 "cells": [
  {
   "cell_type": "markdown",
   "metadata": {},
   "source": [
    "# Exercise 1"
   ]
  },
  {
   "cell_type": "code",
   "execution_count": null,
   "metadata": {},
   "outputs": [],
   "source": [
    "import Bio\n",
    "from Bio import SeqIO"
   ]
  },
  {
   "cell_type": "code",
   "execution_count": null,
   "metadata": {},
   "outputs": [],
   "source": [
    "#solution\n",
    "count = 0\n",
    "for record in SeqIO.parse(filename, \"fasta\"):\n",
    "    count = count + 1\n",
    "print(\"There were \" + str(count) + \" records in file \") "
   ]
  },
  {
   "cell_type": "markdown",
   "metadata": {},
   "source": [
    "# Exercise 2"
   ]
  },
  {
   "cell_type": "code",
   "execution_count": null,
   "metadata": {},
   "outputs": [],
   "source": [
    "#solution\n",
    "\n",
    "count= 0\n",
    "for record in SeqIO.parse(filename, \"fasta\"):\n",
    "    if len(record.seq) < 100:\n",
    "        count = count + 1\n",
    "print(count)\n",
    "    "
   ]
  },
  {
   "cell_type": "markdown",
   "metadata": {},
   "source": [
    "# Exercise 3"
   ]
  },
  {
   "cell_type": "code",
   "execution_count": null,
   "metadata": {},
   "outputs": [],
   "source": [
    "#Solution\n",
    "\n",
    "%matplotlib inline\n",
    "import matplotlib.pyplot as plt\n",
    "lenghts=[len(record.seq) for record in SeqIO.parse(filename, \"fasta\")]\n",
    "plt.hist(lenghts, bins=100)\n",
    "plt.xlabel(\"Sequence length (bp)\")\n",
    "plt.ylabel(\"Count\")\n",
    "plt.show()"
   ]
  },
  {
   "cell_type": "markdown",
   "metadata": {},
   "source": [
    "# Exercise 4 "
   ]
  },
  {
   "cell_type": "markdown",
   "metadata": {},
   "source": [
    "# Exercise 5"
   ]
  },
  {
   "cell_type": "markdown",
   "metadata": {},
   "source": [
    "# Exercise 6"
   ]
  },
  {
   "cell_type": "code",
   "execution_count": null,
   "metadata": {},
   "outputs": [],
   "source": [
    "from Bio import SeqIO\n",
    "record = SeqIO.read(\"NC_000913.gbk\", \"genbank\")\n",
    "output_handle = open(\"NC_000913_cds.fasta\", \"w\")\n",
    "total_CDS = 0\n",
    "total_gene = 0\n",
    "count_CDS = 0\n",
    "count_gene = 0\n",
    "for feature in record.features:\n",
    "    if feature.type == \"CDS\":\n",
    "        count_CDS = count_CDS +1\n",
    "        total_CDS = total_CDS + len(feature)\n",
    "    elif feature.type == \"gene\":\n",
    "        count_gene = count_gene +1\n",
    "        total_gene = total_gene + len(feature)\n",
    "\n",
    "print(str(count_CDS) + \" CDS sequences extracted\")\n",
    "print(\"Total length of all CDS is \" + str(total_CDS))\n",
    "print(str(count_gene) + \" gene sequences extracted\")\n",
    "print(\"Total length of all gene is \" + str(total_gene))"
   ]
  },
  {
   "cell_type": "code",
   "execution_count": null,
   "metadata": {},
   "outputs": [],
   "source": [
    "4089653 * 100.0 / 4641652"
   ]
  },
  {
   "cell_type": "markdown",
   "metadata": {},
   "source": [
    "# Exercise 7"
   ]
  },
  {
   "cell_type": "code",
   "execution_count": null,
   "metadata": {},
   "outputs": [],
   "source": [
    "from Bio import SeqIO\n",
    "record = SeqIO.read(\"NC_000913.gbk\", \"genbank\")\n",
    "print(\"Total length of genome is \" + str(len(record)))\n",
    "totals = dict()\n",
    "counts = dict()\n",
    "for feature in record.features:\n",
    "    if feature.type in totals:\n",
    "        totals[feature.type] = totals[feature.type] + len(feature)\n",
    "        counts[feature.type] = counts[feature.type] + 1\n",
    "    else:\n",
    "        #First time to see this feature type\n",
    "        totals[feature.type] = 1\n",
    "        counts[feature.type] = 1\n",
    "for f_type in totals:\n",
    "    print(f_type)\n",
    "    print(\" - total number: \" + str(counts[f_type]))\n",
    "    print(\" - total length: \" + str(totals[f_type]))\n",
    "    ave_len = totals[f_type] / counts[f_type]\n",
    "    print(\" - average length: \" + str(ave_len))"
   ]
  },
  {
   "cell_type": "markdown",
   "metadata": {},
   "source": [
    "# Exercise 8"
   ]
  },
  {
   "cell_type": "code",
   "execution_count": null,
   "metadata": {},
   "outputs": [],
   "source": [
    "import Bio \n",
    "from Bio import AlignIO\n",
    "import numpy as np\n",
    "\n",
    "\n",
    "def calcSeqIdentity(seqA, seqB):\n",
    "    numPlaces = min(len(seqA), len(seqB))\n",
    "    score = 0.0\n",
    "    for i in range(numPlaces):\n",
    "        if seqA[i] == seqB[i]:\n",
    "            score += 1.0\n",
    "    return 100.0 * score / numPlaces\n",
    "\n",
    "\n",
    "filename = \"PF08792_seed_converted.fasta\"\n",
    "alignment = AlignIO.read(\"PF08792_seed_converted.fasta\", \"fasta\")\n",
    "\n",
    "x_dim = int(((len(alignment))**2 - (len(alignment)))/2)\n",
    "y_dim = 3\n",
    "array = np.zeros((x_dim, y_dim))\n",
    "count=0\n",
    "for i in range(len(alignment) - 1):\n",
    "        for j in range(i + 1, len(alignment)): \n",
    "                result= calcSeqIdentity(alignment[i].seq, alignment[j].seq)\n",
    "                print('The sequence identity between', i + 1,'and', j + 1, 'is', calcSeqIdentity(alignment[i].seq, alignment[j].seq),'%')\n",
    "                array[count, :]= [i, j, result]\n",
    "                count+=1\n",
    "average = np.mean(array[:,2])\n",
    "std = np.std(array[:,2])\n",
    "\n",
    "array[array[: ,2] > average + 2*std, :]"
   ]
  },
  {
   "cell_type": "markdown",
   "metadata": {},
   "source": [
    "# Exercise 9"
   ]
  },
  {
   "cell_type": "code",
   "execution_count": null,
   "metadata": {},
   "outputs": [],
   "source": [
    "def calcSeqSimilarityGaps(seqA, seqB, simMatrix, insert=8, extend=4):\n",
    "\n",
    "    totalScore = 0.0\n",
    "    \n",
    "    n = min(len(seqA), len(seqB))\n",
    "    \n",
    "    for i in range(n):\n",
    "        \n",
    "        residueA = seqA[i]\n",
    "        residueB = seqB[i]\n",
    "        \n",
    "        if '-' not in (residueA, residueB):\n",
    "            simScore = simMatrix[residueA][residueB]\n",
    "        elif (i > 0) and ('-' in (seqA[i-1]), seqB[i-1]):\n",
    "            simScore = - extend\n",
    "        else:\n",
    "            simScore = - insert\n",
    "            \n",
    "        totalScore += simScore\n",
    "        \n",
    "    return totalScore\n",
    "\n",
    "#test\n",
    "print(calcSeqSimilarityGaps('ALIGDPPVENTS', 'ALIGN--MENTS', BLOSUM62))\n",
    "print(calcSeqSimilarityGaps('ALIGDPPVENTS', '--ALIGNMENTS', BLOSUM62))"
   ]
  }
 ],
 "metadata": {
  "kernelspec": {
   "display_name": "Python 3",
   "language": "python",
   "name": "python3"
  },
  "language_info": {
   "codemirror_mode": {
    "name": "ipython",
    "version": 3
   },
   "file_extension": ".py",
   "mimetype": "text/x-python",
   "name": "python",
   "nbconvert_exporter": "python",
   "pygments_lexer": "ipython3",
   "version": "3.6.5"
  }
 },
 "nbformat": 4,
 "nbformat_minor": 2
}
